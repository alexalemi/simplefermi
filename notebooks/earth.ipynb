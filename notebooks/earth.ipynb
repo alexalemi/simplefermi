{
 "cells": [
  {
   "cell_type": "code",
   "execution_count": 35,
   "id": "7a297b09",
   "metadata": {},
   "outputs": [
    {
     "name": "stdout",
     "output_type": "stream",
     "text": [
      "The autoreload extension is already loaded. To reload it, use:\n",
      "  %reload_ext autoreload\n"
     ]
    }
   ],
   "source": [
    "%load_ext autoreload\n",
    "%autoreload 2"
   ]
  },
  {
   "cell_type": "code",
   "execution_count": 36,
   "id": "fdeae724",
   "metadata": {},
   "outputs": [
    {
     "name": "stdout",
     "output_type": "stream",
     "text": [
      "/home/alemi/projects\n"
     ]
    }
   ],
   "source": [
    "cd .."
   ]
  },
  {
   "cell_type": "code",
   "execution_count": 37,
   "id": "0c996ed4",
   "metadata": {},
   "outputs": [],
   "source": [
    "import simplefermi as s"
   ]
  },
  {
   "cell_type": "code",
   "execution_count": 38,
   "id": "b931bf74",
   "metadata": {},
   "outputs": [],
   "source": [
    "import simplefermi.dotplots as dp"
   ]
  },
  {
   "cell_type": "code",
   "execution_count": 66,
   "id": "6161df5f",
   "metadata": {},
   "outputs": [
    {
     "data": {
      "text/plain": [
       "1.7301954024477064\u001b[32m (1.0 to 3.0)\u001b[0m\u001b[34m [foot]\u001b[0m\u001b[33m {length}\u001b[0m"
      ]
     },
     "execution_count": 66,
     "metadata": {},
     "output_type": "execute_result"
    }
   ],
   "source": [
    "q = s.lognormal(1, 3) * s.u(\"ft\")\n",
    "q"
   ]
  },
  {
   "cell_type": "code",
   "execution_count": 76,
   "id": "1bd264cc",
   "metadata": {},
   "outputs": [],
   "source": [
    "s.u.setup_matplotlib(True)"
   ]
  },
  {
   "cell_type": "code",
   "execution_count": 77,
   "id": "fa55720c",
   "metadata": {},
   "outputs": [],
   "source": [
    "albedo = s.lognormal(0.23, 0.35)\n",
    "temp = (((1-albedo) * s.solar_constant / 4 / s.stefan_boltzmann)**(1/4)).to_base_units()"
   ]
  },
  {
   "cell_type": "code",
   "execution_count": 81,
   "id": "fc53d58b",
   "metadata": {},
   "outputs": [
    {
     "data": {
      "text/plain": [
       "(230.0, 290.0)"
      ]
     },
     "execution_count": 81,
     "metadata": {},
     "output_type": "execute_result"
    },
    {
     "data": {
      "image/png": "[encoded data removed]",
      "text/plain": [
       "<Figure size 432x288 with 1 Axes>"
      ]
     },
     "metadata": {
      "needs_background": "light"
     },
     "output_type": "display_data"
    }
   ],
   "source": [
    "fig, axs = dp.dotplot(temp.magnitude, log=False)\n",
    "#axs.xaxis.set_units(temp.units)\n",
    "axs.set_xlabel(temp.units);\n",
    "axs.axvline(255*s.K, color=\"tab:orange\")\n",
    "axs.axvline(288*s.K, color=\"tab:red\")\n",
    "axs.set_xlim((230, 290))"
   ]
  },
  {
   "cell_type": "code",
   "execution_count": null,
   "id": "94774498",
   "metadata": {},
   "outputs": [],
   "source": []
  }
 ],
 "metadata": {
  "kernelspec": {
   "display_name": "Python 3 (ipykernel)",
   "language": "python",
   "name": "python3"
  },
  "language_info": {
   "codemirror_mode": {
    "name": "ipython",
    "version": 3
   },
   "file_extension": ".py",
   "mimetype": "text/x-python",
   "name": "python",
   "nbconvert_exporter": "python",
   "pygments_lexer": "ipython3",
   "version": "3.9.12"
  }
 },
 "nbformat": 4,
 "nbformat_minor": 5
}
